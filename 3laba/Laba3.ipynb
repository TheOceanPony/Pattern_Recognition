{
  "nbformat": 4,
  "nbformat_minor": 0,
  "metadata": {
    "colab": {
      "name": "Laba3.ipynb",
      "provenance": [],
      "collapsed_sections": []
    },
    "kernelspec": {
      "name": "python3",
      "display_name": "Python 3"
    }
  },
  "cells": [
    {
      "cell_type": "code",
      "metadata": {
        "id": "dswE6VmYZSvh",
        "colab_type": "code",
        "colab": {}
      },
      "source": [
        "import numpy as np\n",
        "import matplotlib.pyplot as plt"
      ],
      "execution_count": 0,
      "outputs": []
    },
    {
      "cell_type": "code",
      "metadata": {
        "id": "jMNSlTppbAko",
        "colab_type": "code",
        "colab": {}
      },
      "source": [
        "def xor(a,b):\n",
        "  res=[]\n",
        "  for i in range(len(a)):\n",
        "    res.append(int(a[i]!=b[i]))\n",
        "  return np.array(res)"
      ],
      "execution_count": 0,
      "outputs": []
    },
    {
      "cell_type": "code",
      "metadata": {
        "id": "_nZA238HZZiQ",
        "colab_type": "code",
        "colab": {}
      },
      "source": [
        "def sum_xor(a,b):\n",
        "  return np.sum(xor(a,b))"
      ],
      "execution_count": 0,
      "outputs": []
    },
    {
      "cell_type": "code",
      "metadata": {
        "id": "-s36V6sM9ZQh",
        "colab_type": "code",
        "colab": {}
      },
      "source": [
        "def conditional_prob(histogram, x,y,p):\n",
        "  res=[]\n",
        "  for k in range(10):\n",
        "    a=histogram[k]\n",
        "    b=0\n",
        "    for i in range(10):\n",
        "      b+=histogram[i]*((p/(1-p))**(sum_xor(y[i],x)-sum_xor(y[k],x)))\n",
        "    res.append(a/b)\n",
        "  return np.array(res)"
      ],
      "execution_count": 0,
      "outputs": []
    },
    {
      "cell_type": "code",
      "metadata": {
        "id": "Kaikb5mddiKl",
        "colab_type": "code",
        "colab": {}
      },
      "source": [
        "def translate(a, y):\n",
        "  res=[]\n",
        "  for i in range(len(a)):\n",
        "    res.append(y[a[i]])\n",
        "  return res"
      ],
      "execution_count": 0,
      "outputs": []
    },
    {
      "cell_type": "code",
      "metadata": {
        "id": "V2Cb3E9LWhWT",
        "colab_type": "code",
        "colab": {}
      },
      "source": [
        "def generator(n, y,histogram):\n",
        "  m=np.random.choice(10, size=n, p=histogram)\n",
        "  res=translate(m,y)\n",
        "  return [res, np.sum(m)]"
      ],
      "execution_count": 0,
      "outputs": []
    },
    {
      "cell_type": "code",
      "metadata": {
        "id": "pxQ_gXzfJAhW",
        "colab_type": "code",
        "colab": {}
      },
      "source": [
        "def upscale(y, scale):\n",
        "  res=[]\n",
        "  for i in range(0, len(y)):\n",
        "    for j in range(0, scale):\n",
        "      res.append(y[i])\n",
        "  return np.array(res) "
      ],
      "execution_count": 0,
      "outputs": []
    },
    {
      "cell_type": "code",
      "metadata": {
        "id": "kmKq_CF6arvn",
        "colab_type": "code",
        "colab": {}
      },
      "source": [
        "def recursive_strategy(x,histogram,y, t,prob):\n",
        "  #print(\"step=\"+str(t)+\"\\n\")\n",
        "  if(t==0):\n",
        "    return np.array([1])\n",
        "  res=np.zeros(9*t+1)\n",
        "  a=x[t-1]\n",
        "  del x[t-1]\n",
        "  p=conditional_prob(histogram, a, y,prob)\n",
        "  L=recursive_strategy(x, histogram,y,t-1, prob)\n",
        "  for d in range(len(res)):\n",
        "    for k in range(max(0,d-(9*(t-1))),min(d+1,10)):\n",
        "      #print(\"step by k=\"+str(k)+\" step by d=\"+str(d)+\" step by t=\"+str(t)+\"\\n\")\n",
        "      res[d]+=L[d-k]*p[k]\n",
        "  return np.array(res)\n",
        "  "
      ],
      "execution_count": 0,
      "outputs": []
    },
    {
      "cell_type": "code",
      "metadata": {
        "id": "QZQrRWtwRt4u",
        "colab_type": "code",
        "colab": {}
      },
      "source": [
        "y=[[1,1,1,1,0,1,1,0,1,1,0,1,1,1,1]]\n",
        "y.append([0,1,0,0,1,0,0,1,0,0,1,0,0,1,0])\n",
        "y.append([1,1,1,0,0,1,1,1,1,1,0,0,1,1,1])\n",
        "y.append([1,1,1,0,0,1,1,1,1,0,0,1,1,1,1])\n",
        "y.append([1,0,1,1,0,1,1,1,1,0,0,1,0,0,1])\n",
        "y.append([1,1,1,1,0,0,1,1,1,0,0,1,1,1,1])\n",
        "y.append([1,1,1,1,0,0,1,1,1,1,0,1,1,1,1])\n",
        "y.append([1,1,1,0,0,1,0,1,0,1,0,0,1,0,0])\n",
        "y.append([1,1,1,1,0,1,1,1,1,1,0,1,1,1,1])\n",
        "y.append([1,1,1,1,0,1,1,1,1,0,0,1,0,0,1])\n"
      ],
      "execution_count": 0,
      "outputs": []
    },
    {
      "cell_type": "code",
      "metadata": {
        "id": "OHS90zQ_Uvez",
        "colab_type": "code",
        "colab": {}
      },
      "source": [
        "def noised(y, prob):\n",
        "  res=[]\n",
        "  for i in range(len(y)):\n",
        "    res.append(xor(y[i],np.random.choice(2, size=len(y[i]), p=[1-prob,prob])))\n",
        "  return res"
      ],
      "execution_count": 0,
      "outputs": []
    },
    {
      "cell_type": "code",
      "metadata": {
        "id": "RuKLmLgwgDrr",
        "colab_type": "code",
        "outputId": "dff91cc2-2bed-4441-f99f-b317016d09ed",
        "colab": {
          "base_uri": "https://localhost:8080/",
          "height": 34
        }
      },
      "source": [
        "#for i in range(0, len(y)):\n",
        "  #y[i]=upscale(y[i], 1)\n",
        "prob=0.3\n",
        "histogram=[0.15,0.2,0.1,0.05,0.1,0.05,0.1,0.05,0.1,0.1]\n",
        "j=0\n",
        "for i in range(0, 100):\n",
        "  k=generator(10, y, histogram)\n",
        "  x=noised(k[0],prob)\n",
        "  res=recursive_strategy(x, histogram, y, 10, 0.3)\n",
        "  if(np.argmax(res)==k[1]):\n",
        "    j+=1\n",
        "j"
      ],
      "execution_count": 26,
      "outputs": [
        {
          "output_type": "execute_result",
          "data": {
            "text/plain": [
              "100"
            ]
          },
          "metadata": {
            "tags": []
          },
          "execution_count": 26
        }
      ]
    },
    {
      "cell_type": "code",
      "metadata": {
        "id": "iHO1po3cpwv2",
        "colab_type": "code",
        "colab": {}
      },
      "source": [
        ""
      ],
      "execution_count": 0,
      "outputs": []
    }
  ]
}